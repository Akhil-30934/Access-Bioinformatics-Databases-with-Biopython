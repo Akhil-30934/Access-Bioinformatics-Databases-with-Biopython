{
 "cells": [
  {
   "cell_type": "markdown",
   "metadata": {},
   "source": [
    "Lab Insem Skill Exam\n",
    "\n"
   ]
  },
  {
   "cell_type": "code",
   "execution_count": 1,
   "metadata": {},
   "outputs": [],
   "source": [
    "from Bio import Entrez, SeqIO"
   ]
  },
  {
   "cell_type": "code",
   "execution_count": 2,
   "metadata": {},
   "outputs": [],
   "source": [
    "Entrez.email = \"\" "
   ]
  },
  {
   "cell_type": "code",
   "execution_count": 3,
   "metadata": {},
   "outputs": [
    {
     "name": "stdout",
     "output_type": "stream",
     "text": [
      "dict_keys(['DbList'])\n"
     ]
    }
   ],
   "source": [
    "# This gives you the list of available databases\n",
    "handle = Entrez.einfo()\n",
    "rec = Entrez.read(handle)\n",
    "handle.close()\n",
    "print(rec.keys())"
   ]
  },
  {
   "cell_type": "code",
   "execution_count": 4,
   "metadata": {},
   "outputs": [
    {
     "data": {
      "text/plain": [
       "['pubmed', 'protein', 'nuccore', 'ipg', 'nucleotide', 'structure', 'genome', 'annotinfo', 'assembly', 'bioproject', 'biosample', 'blastdbinfo', 'books', 'cdd', 'clinvar', 'gap', 'gapplus', 'grasp', 'dbvar', 'gene', 'gds', 'geoprofiles', 'homologene', 'medgen', 'mesh', 'ncbisearch', 'nlmcatalog', 'omim', 'orgtrack', 'pmc', 'popset', 'proteinclusters', 'pcassay', 'protfam', 'pccompound', 'pcsubstance', 'seqannot', 'snp', 'sra', 'taxonomy', 'biocollections', 'gtr']"
      ]
     },
     "execution_count": 4,
     "metadata": {},
     "output_type": "execute_result"
    }
   ],
   "source": [
    "rec['DbList']"
   ]
  },
  {
   "cell_type": "code",
   "execution_count": 5,
   "metadata": {},
   "outputs": [
    {
     "data": {
      "text/plain": [
       "'2022'"
      ]
     },
     "execution_count": 5,
     "metadata": {},
     "output_type": "execute_result"
    }
   ],
   "source": [
    "handle = Entrez.esearch(db=\"nucleotide\", term='CRT[Gene Name] AND \"Plasmodium falciparum\"[Organism]', retmax=\"40\")\n",
    "rec_list = Entrez.read(handle)\n",
    "handle.close()\n",
    "rec_list['Count']"
   ]
  },
  {
   "cell_type": "code",
   "execution_count": 6,
   "metadata": {},
   "outputs": [
    {
     "data": {
      "text/plain": [
       "40"
      ]
     },
     "execution_count": 6,
     "metadata": {},
     "output_type": "execute_result"
    }
   ],
   "source": [
    "len(rec_list['IdList'])"
   ]
  },
  {
   "cell_type": "code",
   "execution_count": 7,
   "metadata": {},
   "outputs": [
    {
     "data": {
      "text/plain": [
       "['2196471109', '2196471107', '2196471105', '2196471103', '2196471101', '2196471099', '2196471097', '2196471095', '2196471093', '2196471091', '2196471089', '2196471087', '2196471085', '2196471083', '2196471081', '2196471079', '2196471077', '2196471075', '2196471073', '2196471071', '2196471069', '2196471067', '2196471065', '2196471063', '2196471061', '2196471059', '2196471057', '2196471055', '2196471053', '2196471051', '2196471049', '2196471047', '2196471045', '2196471043', '2196471041', '2196471039', '2196471037', '2196471035', '2196471033', '2196471031']"
      ]
     },
     "execution_count": 7,
     "metadata": {},
     "output_type": "execute_result"
    }
   ],
   "source": [
    "rec_list['IdList']"
   ]
  },
  {
   "cell_type": "code",
   "execution_count": 8,
   "metadata": {},
   "outputs": [],
   "source": [
    "id_list = rec_list['IdList']\n",
    "handle = Entrez.efetch(db='nucleotide', id=id_list, rettype='gb') # genbank format, we need to parse it with SeqIO module"
   ]
  },
  {
   "cell_type": "code",
   "execution_count": 9,
   "metadata": {},
   "outputs": [],
   "source": [
    "recs = list(SeqIO.parse(handle, 'gb'))\n",
    "handle.close()"
   ]
  },
  {
   "cell_type": "code",
   "execution_count": 10,
   "metadata": {},
   "outputs": [
    {
     "data": {
      "text/plain": [
       "[SeqRecord(seq=Seq('GAACGACACCGAAGCTTTAATTTACAATTTTTTGCTATATCCATGTTAGATGCC...TGC'), id='OM418379.1', name='OM418379', description='Plasmodium falciparum isolate 240134_081 chloroquine resistance transporter (crt) gene, partial cds', dbxrefs=[]),\n",
       " SeqRecord(seq=Seq('GAACGACACCGAAGCTTTAATTTACAATTTTTTGCTATATCCATGTTAGATGCC...TGC'), id='OM418378.1', name='OM418378', description='Plasmodium falciparum isolate 240134_039 chloroquine resistance transporter (crt) gene, partial cds', dbxrefs=[]),\n",
       " SeqRecord(seq=Seq('GAACGACACCGAAGCTTTAATTTACAATTTTTTGCTATATCCATGTTAGATGCC...TGC'), id='OM418377.1', name='OM418377', description='Plasmodium falciparum isolate 240125_051 chloroquine resistance transporter (crt) gene, partial cds', dbxrefs=[]),\n",
       " SeqRecord(seq=Seq('GAACGACACCGAAGCTTTAATTTACAATTTTTTGCTATATCCATGTTAGATGCC...TCT'), id='OM418376.1', name='OM418376', description='Plasmodium falciparum isolate 240125_049 chloroquine resistance transporter (crt) gene, partial cds', dbxrefs=[]),\n",
       " SeqRecord(seq=Seq('GAACGACACCGAAGCTTTAATTTACAATTTTTTGCTATATCCATGTTAGATGCC...TCT'), id='OM418375.1', name='OM418375', description='Plasmodium falciparum isolate 240110_065 chloroquine resistance transporter (crt) gene, partial cds', dbxrefs=[]),\n",
       " SeqRecord(seq=Seq('GAACGACACCGAAGCTTTAATTTACAATTTTTTGCTATATCCATGTTAGATGCC...TGC'), id='OM418374.1', name='OM418374', description='Plasmodium falciparum isolate 240113_087 chloroquine resistance transporter (crt) gene, partial cds', dbxrefs=[]),\n",
       " SeqRecord(seq=Seq('GAACGACACCGAAGCTTTAATTTACAATTTTTTGCTATATCCATGTTAGATGCC...TGC'), id='OM418373.1', name='OM418373', description='Plasmodium falciparum isolate 240113_051 chloroquine resistance transporter (crt) gene, partial cds', dbxrefs=[]),\n",
       " SeqRecord(seq=Seq('GAACGACACCGAAGCTTTAATTTACAATTTTTTGCTATATCCATGTTAGATGCC...TGC'), id='OM418372.1', name='OM418372', description='Plasmodium falciparum isolate 240113_046 chloroquine resistance transporter (crt) gene, partial cds', dbxrefs=[]),\n",
       " SeqRecord(seq=Seq('GAACGACACCGAAGCTTTAATTTACAATTTTTTGCTATATCCATGTTAGATGCC...TGC'), id='OM418371.1', name='OM418371', description='Plasmodium falciparum isolate 240110_055 chloroquine resistance transporter (crt) gene, partial cds', dbxrefs=[]),\n",
       " SeqRecord(seq=Seq('GAACGACACCGAAGCTTTAATTTACAATTTTTTGCTATATCCATGTTAGATGCC...TGC'), id='OM418370.1', name='OM418370', description='Plasmodium falciparum isolate 230107_087 chloroquine resistance transporter (crt) gene, partial cds', dbxrefs=[]),\n",
       " SeqRecord(seq=Seq('GAACGACACCGAAGCTTTAATTTACAATTTTTTGCTATATCCATGTTAGATGCC...TGC'), id='OM418369.1', name='OM418369', description='Plasmodium falciparum isolate 240137_098 chloroquine resistance transporter (crt) gene, partial cds', dbxrefs=[]),\n",
       " SeqRecord(seq=Seq('GAACGACACCGAAGCTTTAATTTACAATTTTTTGCTATATCCATGTTAGATGCC...TGC'), id='OM418368.1', name='OM418368', description='Plasmodium falciparum isolate 240137_095 chloroquine resistance transporter (crt) gene, partial cds', dbxrefs=[]),\n",
       " SeqRecord(seq=Seq('GAACGACACCGAAGCTTTAATTTACAATTTTTTGCTATATCCATGTTAGATGCC...TGC'), id='OM418367.1', name='OM418367', description='Plasmodium falciparum isolate 240137_070 chloroquine resistance transporter (crt) gene, partial cds', dbxrefs=[]),\n",
       " SeqRecord(seq=Seq('GAACGACACCGAAGCTTTAATTTACAATTTTTTGCTATATCCATGTTAGATGCC...TGC'), id='OM418366.1', name='OM418366', description='Plasmodium falciparum isolate 240137_069 chloroquine resistance transporter (crt) gene, partial cds', dbxrefs=[]),\n",
       " SeqRecord(seq=Seq('GAACGACACCGAAGCTTTAATTTACAATTTTTTGCTATATCCATGTTAGATGCC...TGC'), id='OM418365.1', name='OM418365', description='Plasmodium falciparum isolate 240137_063 chloroquine resistance transporter (crt) gene, partial cds', dbxrefs=[]),\n",
       " SeqRecord(seq=Seq('GAACGACACCGAAGCTTTAATTTACAATTTTTTGCTATATCCATGTTAGATGCC...TGC'), id='OM418364.1', name='OM418364', description='Plasmodium falciparum isolate 240137_059 chloroquine resistance transporter (crt) gene, partial cds', dbxrefs=[]),\n",
       " SeqRecord(seq=Seq('GAACGACACCGAAGCTTTAATTTACAATTTTTTGCTATATCCATGTTAGATGCC...TGC'), id='OM418363.1', name='OM418363', description='Plasmodium falciparum isolate 240137_055 chloroquine resistance transporter (crt) gene, partial cds', dbxrefs=[]),\n",
       " SeqRecord(seq=Seq('GAACGACACCGAAGCTTTAATTTACAATTTTTTGCTATATCCATGTTAGATGCC...TGC'), id='OM418362.1', name='OM418362', description='Plasmodium falciparum isolate 240137_051 chloroquine resistance transporter (crt) gene, partial cds', dbxrefs=[]),\n",
       " SeqRecord(seq=Seq('GAACGACACCGAAGCTTTAATTTACAATTTTTTGCTATATCCATGTTAGATGCC...TGC'), id='OM418361.1', name='OM418361', description='Plasmodium falciparum isolate 240137_038 chloroquine resistance transporter (crt) gene, partial cds', dbxrefs=[]),\n",
       " SeqRecord(seq=Seq('GAACGACACCGAAGCTTTAATTTACAATTTTTTGCTATATCCATGTTAGATGCC...TGC'), id='OM418360.1', name='OM418360', description='Plasmodium falciparum isolate 240137_025 chloroquine resistance transporter (crt) gene, partial cds', dbxrefs=[]),\n",
       " SeqRecord(seq=Seq('GAACGACACCGAAGCTTTAATTTACAATTTTTTGCTATATCCATGTTAGATGCC...TGC'), id='OM418359.1', name='OM418359', description='Plasmodium falciparum isolate 240137_024 chloroquine resistance transporter (crt) gene, partial cds', dbxrefs=[]),\n",
       " SeqRecord(seq=Seq('GAACGACACCGAAGCTTTAATTTACAATTTTTTGCTATATCCATGTTAGATGCC...TGC'), id='OM418358.1', name='OM418358', description='Plasmodium falciparum isolate 240137_019 chloroquine resistance transporter (crt) gene, partial cds', dbxrefs=[]),\n",
       " SeqRecord(seq=Seq('GAACGACACCGAAGCTTTAATTTACAATTTTTTGCTATATCCATGTTAGATGCC...TGC'), id='OM418357.1', name='OM418357', description='Plasmodium falciparum isolate 240137_018 chloroquine resistance transporter (crt) gene, partial cds', dbxrefs=[]),\n",
       " SeqRecord(seq=Seq('GAACGACACCGAAGCTTTAATTTACAATTTTTTGCTATATCCATGTTAGATGCC...TGC'), id='OM418356.1', name='OM418356', description='Plasmodium falciparum isolate 240137_012 chloroquine resistance transporter (crt) gene, partial cds', dbxrefs=[]),\n",
       " SeqRecord(seq=Seq('GAACGACACCGAAGCTTTAATTTACAATTTTTTGCTATATCCATGTTAGATGCC...TGC'), id='OM418355.1', name='OM418355', description='Plasmodium falciparum isolate 240134_096 chloroquine resistance transporter (crt) gene, partial cds', dbxrefs=[]),\n",
       " SeqRecord(seq=Seq('GAACGACACCGAAGCTTTAATTTACAATTTTTTGCTATATCCATGTTAGATGCC...TGC'), id='OM418354.1', name='OM418354', description='Plasmodium falciparum isolate 240134_094 chloroquine resistance transporter (crt) gene, partial cds', dbxrefs=[]),\n",
       " SeqRecord(seq=Seq('GAACGACACCGAAGCTTTAATTTACAATTTTTTGCTATATCCATGTTAGATGCC...TGC'), id='OM418353.1', name='OM418353', description='Plasmodium falciparum isolate 240134_093 chloroquine resistance transporter (crt) gene, partial cds', dbxrefs=[]),\n",
       " SeqRecord(seq=Seq('GAACGACACCGAAGCTTTAATTTACAATTTTTTGCTATATCCATGTTAGATGCC...TGC'), id='OM418352.1', name='OM418352', description='Plasmodium falciparum isolate 240134_072 chloroquine resistance transporter (crt) gene, partial cds', dbxrefs=[]),\n",
       " SeqRecord(seq=Seq('GAACGACACCGAAGCTTTAATTTACAATTTTTTGCTATATCCATGTTAGATGCC...TGC'), id='OM418351.1', name='OM418351', description='Plasmodium falciparum isolate 240134_064 chloroquine resistance transporter (crt) gene, partial cds', dbxrefs=[]),\n",
       " SeqRecord(seq=Seq('GAACGACACCGAAGCTTTAATTTACAATTTTTTGCTATATCCATGTTAGATGCC...TGC'), id='OM418350.1', name='OM418350', description='Plasmodium falciparum isolate 240134_048 chloroquine resistance transporter (crt) gene, partial cds', dbxrefs=[]),\n",
       " SeqRecord(seq=Seq('GAACGACACCGAAGCTTTAATTTACAATTTTTTGCTATATCCATGTTAGATGCC...TGC'), id='OM418349.1', name='OM418349', description='Plasmodium falciparum isolate 240134_042 chloroquine resistance transporter (crt) gene, partial cds', dbxrefs=[]),\n",
       " SeqRecord(seq=Seq('GAACGACACCGAAGCTTTAATTTACAATTTTTTGCTATATCCATGTTAGATGCC...TGC'), id='OM418348.1', name='OM418348', description='Plasmodium falciparum isolate 240134_041 chloroquine resistance transporter (crt) gene, partial cds', dbxrefs=[]),\n",
       " SeqRecord(seq=Seq('GAACGACACCGAAGCTTTAATTTACAATTTTTTGCTATATCCATGTTAGATGCC...TGC'), id='OM418347.1', name='OM418347', description='Plasmodium falciparum isolate 240134_024 chloroquine resistance transporter (crt) gene, partial cds', dbxrefs=[]),\n",
       " SeqRecord(seq=Seq('GAACGACACCGAAGCTTTAATTTACAATTTTTTGCTATATCCATGTTAGATGCC...TGC'), id='OM418346.1', name='OM418346', description='Plasmodium falciparum isolate 240134_023 chloroquine resistance transporter (crt) gene, partial cds', dbxrefs=[]),\n",
       " SeqRecord(seq=Seq('GAACGACACCGAAGCTTTAATTTACAATTTTTTGCTATATCCATGTTAGATGCC...TGC'), id='OM418345.1', name='OM418345', description='Plasmodium falciparum isolate 240134_019 chloroquine resistance transporter (crt) gene, partial cds', dbxrefs=[]),\n",
       " SeqRecord(seq=Seq('GAACGACACCGAAGCTTTAATTTACAATTTTTTGCTATATCCATGTTAGATGCC...TGC'), id='OM418344.1', name='OM418344', description='Plasmodium falciparum isolate 240134_005 chloroquine resistance transporter (crt) gene, partial cds', dbxrefs=[]),\n",
       " SeqRecord(seq=Seq('GAACGACACCGAAGCTTTAATTTACAATTTTTTGCTATATCCATGTTAGATGCC...TGC'), id='OM418343.1', name='OM418343', description='Plasmodium falciparum isolate 240125_100 chloroquine resistance transporter (crt) gene, partial cds', dbxrefs=[]),\n",
       " SeqRecord(seq=Seq('GAACGACACCGAAGCTTTAATTTACAATTTTTTGCTATATCCATGTTAGATGCC...TGC'), id='OM418342.1', name='OM418342', description='Plasmodium falciparum isolate 240125_079 chloroquine resistance transporter (crt) gene, partial cds', dbxrefs=[]),\n",
       " SeqRecord(seq=Seq('GAACGACACCGAAGCTTTAATTTACAATTTTTTGCTATATCCATGTTAGATGCC...TGC'), id='OM418341.1', name='OM418341', description='Plasmodium falciparum isolate 240125_056 chloroquine resistance transporter (crt) gene, partial cds', dbxrefs=[]),\n",
       " SeqRecord(seq=Seq('GCTATATCCATGTTAGATGCCTGTTCAGTCATTTTGGCCTTCATAGGTCTTACA...TGC'), id='OM418340.1', name='OM418340', description='Plasmodium falciparum isolate 220137_074 chloroquine resistance transporter (crt) gene, partial cds', dbxrefs=[])]"
      ]
     },
     "execution_count": 10,
     "metadata": {},
     "output_type": "execute_result"
    }
   ],
   "source": [
    "recs"
   ]
  },
  {
   "cell_type": "code",
   "execution_count": 11,
   "metadata": {},
   "outputs": [
    {
     "name": "stdout",
     "output_type": "stream",
     "text": [
      "OM418340\n",
      "Plasmodium falciparum isolate 220137_074 chloroquine resistance transporter (crt) gene, partial cds\n"
     ]
    }
   ],
   "source": [
    "for rec in recs:\n",
    "    if rec.name == 'KM288867': # try finding CRT gene in 40 records we fetched\n",
    "        break\n",
    "print(rec.name)\n",
    "print(rec.description)"
   ]
  },
  {
   "cell_type": "code",
   "execution_count": 12,
   "metadata": {},
   "outputs": [
    {
     "data": {
      "text/plain": [
       "'GCTATATCCATGTTAGATGCCTGTTCAGTCATTTTGGCCTTCATAGGTCTTACAAGAACTACTGGAAATATCCAATCATTTGTTCTTCAATTAAGTATTCCTATTAATATGTTCTTCTGC'"
      ]
     },
     "execution_count": 12,
     "metadata": {},
     "output_type": "execute_result"
    }
   ],
   "source": [
    "str(rec.seq)"
   ]
  },
  {
   "cell_type": "code",
   "execution_count": 13,
   "metadata": {},
   "outputs": [],
   "source": [
    "from Bio import SeqIO"
   ]
  },
  {
   "cell_type": "code",
   "execution_count": 14,
   "metadata": {},
   "outputs": [
    {
     "name": "stdout",
     "output_type": "stream",
     "text": [
      "ID: seq1\n",
      "Name: seq1\n",
      "Description: seq1\n",
      "Number of features: 0\n",
      "Seq('ATCGAAA')\n",
      "ID: seq2\n",
      "Name: seq2\n",
      "Description: seq2\n",
      "Number of features: 0\n",
      "Seq('ATGCTACGTACG')\n",
      "ID: seq3\n",
      "Name: seq3\n",
      "Description: seq3\n",
      "Number of features: 0\n",
      "Seq('AATCATCGATCG')\n"
     ]
    }
   ],
   "source": [
    "for record in SeqIO.parse(r\"C:\\Users\\USER\\Desktop\\3-2 Year\\BioInformatics\\Practicals\\ipynb files\\test_fasta_file.txt\",\"fasta\"):\n",
    "    print(record)\n"
   ]
  },
  {
   "cell_type": "code",
   "execution_count": 15,
   "metadata": {},
   "outputs": [],
   "source": [
    "dna_record = SeqIO.read(r\"C:\\Users\\USER\\Desktop\\3-2 Year\\BioInformatics\\Practicals\\ipynb files\\fasta_file.txt\",\"fasta\")\n",
    "\n"
   ]
  },
  {
   "cell_type": "code",
   "execution_count": 16,
   "metadata": {},
   "outputs": [
    {
     "data": {
      "text/plain": [
       "Seq('ATCGAAA')"
      ]
     },
     "execution_count": 16,
     "metadata": {},
     "output_type": "execute_result"
    }
   ],
   "source": [
    "dna_seq = dna_record.seq\n",
    "dna_seq\n"
   ]
  },
  {
   "cell_type": "code",
   "execution_count": 17,
   "metadata": {},
   "outputs": [],
   "source": [
    "# Reading GenBank \n",
    "# Load A GenBank File\n"
   ]
  },
  {
   "cell_type": "code",
   "execution_count": 18,
   "metadata": {},
   "outputs": [
    {
     "name": "stdout",
     "output_type": "stream",
     "text": [
      "seq1\n",
      "Seq('ATCGAAA')\n",
      "7\n",
      "seq2\n",
      "Seq('ATGCTACGTACG')\n",
      "12\n",
      "seq3\n",
      "Seq('AATCATCGATCG')\n",
      "12\n"
     ]
    }
   ],
   "source": [
    "from Bio import SeqIO\n",
    "handle = open(r\"C:\\Users\\USER\\Desktop\\3-2 Year\\BioInformatics\\Practicals\\ipynb files\\test_fasta_file.txt\")\n",
    "for seq_record in SeqIO.parse(handle, \"fasta\") :\n",
    " print(seq_record.id)\n",
    " print(repr(seq_record.seq))\n",
    " print(len(seq_record))\n",
    "handle.close()\n"
   ]
  },
  {
   "cell_type": "code",
   "execution_count": null,
   "metadata": {},
   "outputs": [],
   "source": []
  },
  {
   "cell_type": "code",
   "execution_count": null,
   "metadata": {},
   "outputs": [],
   "source": []
  },
  {
   "cell_type": "code",
   "execution_count": null,
   "metadata": {},
   "outputs": [],
   "source": []
  },
  {
   "cell_type": "code",
   "execution_count": null,
   "metadata": {},
   "outputs": [],
   "source": []
  }
 ],
 "metadata": {
  "kernelspec": {
   "display_name": "Python 3",
   "language": "python",
   "name": "python3"
  },
  "language_info": {
   "codemirror_mode": {
    "name": "ipython",
    "version": 3
   },
   "file_extension": ".py",
   "mimetype": "text/x-python",
   "name": "python",
   "nbconvert_exporter": "python",
   "pygments_lexer": "ipython3",
   "version": "3.8.5"
  }
 },
 "nbformat": 4,
 "nbformat_minor": 4
}
